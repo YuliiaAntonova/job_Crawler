{
 "cells": [
  {
   "cell_type": "code",
   "execution_count": 21,
   "id": "ea8f138b-5a77-446f-9149-728c2bd60455",
   "metadata": {},
   "outputs": [],
   "source": [
    "import pandas as pd\n",
    "pd.set_option('display.max_rows', None)\n",
    "import re\n",
    "from nltk.tokenize import sent_tokenize, word_tokenize"
   ]
  },
  {
   "cell_type": "code",
   "execution_count": 22,
   "id": "bc24d164-2270-48ff-887d-a68af88ba25f",
   "metadata": {},
   "outputs": [
    {
     "data": {
      "text/html": [
       "<div>\n",
       "<style scoped>\n",
       "    .dataframe tbody tr th:only-of-type {\n",
       "        vertical-align: middle;\n",
       "    }\n",
       "\n",
       "    .dataframe tbody tr th {\n",
       "        vertical-align: top;\n",
       "    }\n",
       "\n",
       "    .dataframe thead th {\n",
       "        text-align: right;\n",
       "    }\n",
       "</style>\n",
       "<table border=\"1\" class=\"dataframe\">\n",
       "  <thead>\n",
       "    <tr style=\"text-align: right;\">\n",
       "      <th></th>\n",
       "      <th>id</th>\n",
       "      <th>title</th>\n",
       "      <th>company</th>\n",
       "      <th>description</th>\n",
       "      <th>source</th>\n",
       "      <th>location</th>\n",
       "      <th>min_salary</th>\n",
       "      <th>max_salary</th>\n",
       "    </tr>\n",
       "  </thead>\n",
       "  <tbody>\n",
       "    <tr>\n",
       "      <th>0</th>\n",
       "      <td>1</td>\n",
       "      <td>Senior Software Engineer - Remote</td>\n",
       "      <td>Akamai</td>\n",
       "      <td>**Are you a software developer who loves solvi...</td>\n",
       "      <td>indeed.com</td>\n",
       "      <td>United States</td>\n",
       "      <td>$113,430</td>\n",
       "      <td>$170,043</td>\n",
       "    </tr>\n",
       "    <tr>\n",
       "      <th>1</th>\n",
       "      <td>2</td>\n",
       "      <td>Software Engineer II</td>\n",
       "      <td>Microsoft</td>\n",
       "      <td>Microsoft’s Azure Data engineering team is lea...</td>\n",
       "      <td>indeed.com</td>\n",
       "      <td>United States</td>\n",
       "      <td>$94,300</td>\n",
       "      <td>$182,600</td>\n",
       "    </tr>\n",
       "  </tbody>\n",
       "</table>\n",
       "</div>"
      ],
      "text/plain": [
       "   id                              title    company  \\\n",
       "0   1  Senior Software Engineer - Remote     Akamai   \n",
       "1   2               Software Engineer II  Microsoft   \n",
       "\n",
       "                                         description      source  \\\n",
       "0  **Are you a software developer who loves solvi...  indeed.com   \n",
       "1  Microsoft’s Azure Data engineering team is lea...  indeed.com   \n",
       "\n",
       "        location min_salary max_salary  \n",
       "0  United States   $113,430   $170,043  \n",
       "1  United States    $94,300   $182,600  "
      ]
     },
     "execution_count": 22,
     "metadata": {},
     "output_type": "execute_result"
    }
   ],
   "source": [
    "# Read in the train_rev1 datafile downloaded from kaggle\n",
    "df = pd.read_csv('new_combined_results.csv')\n",
    "df.head(2)"
   ]
  },
  {
   "cell_type": "code",
   "execution_count": 23,
   "id": "a51b6613-81e0-4c2a-bfe7-911dc85ec347",
   "metadata": {},
   "outputs": [
    {
     "name": "stderr",
     "output_type": "stream",
     "text": [
      "[nltk_data] Downloading package punkt to\n",
      "[nltk_data]     /Users/yuliiaantonova/nltk_data...\n",
      "[nltk_data]   Package punkt is already up-to-date!\n"
     ]
    },
    {
     "data": {
      "text/plain": [
       "True"
      ]
     },
     "execution_count": 23,
     "metadata": {},
     "output_type": "execute_result"
    }
   ],
   "source": [
    "import ssl\n",
    "ssl._create_default_https_context = ssl._create_unverified_context\n",
    "\n",
    "import nltk\n",
    "nltk.download('punkt')"
   ]
  },
  {
   "cell_type": "code",
   "execution_count": 24,
   "id": "8af8a015-934a-46c4-84c5-f66d02e299b7",
   "metadata": {},
   "outputs": [],
   "source": [
    "def convert_utf8(s):\n",
    "    return str(s)\n",
    "\n",
    "df['description'] = df['description'].map(convert_utf8)"
   ]
  },
  {
   "cell_type": "code",
   "execution_count": 33,
   "id": "11447fad-e153-46a9-968b-cf0c17bc6a57",
   "metadata": {},
   "outputs": [],
   "source": [
    "# Define a function to extract experience information\n",
    "def extract_experience(text):\n",
    "    # Tokenize the text into sentences and words\n",
    "    sentences = sent_tokenize(text)\n",
    "    words = [word_tokenize(sentence) for sentence in sentences]\n",
    "\n",
    "    # Define a pattern to match \"2 years,\" \"2+ years,\" \"3 years,\" \"5 years,\" etc.\n",
    "    experience_pattern = r'(\\d+)(\\s*[\\+]?|[\\+]\\s*)years'\n",
    "\n",
    "    # Extract years of experience from the tokenized text\n",
    "    years_of_experience = None\n",
    "    for sentence_words in words:\n",
    "        sentence = ' '.join(sentence_words)\n",
    "        match = re.search(experience_pattern, sentence, re.IGNORECASE)\n",
    "        if match:\n",
    "            years_of_experience = match.group(0)\n",
    "            break\n",
    "\n",
    "    return years_of_experience\n",
    "\n",
    "# Apply the function to the \"description\" column and create a new column \"experience\"\n",
    "df['experience'] = df['description'].apply(extract_experience)\n",
    "\n",
    "# Display the modified DataFrame\n",
    "# print(df['experience'])"
   ]
  },
  {
   "cell_type": "code",
   "execution_count": 34,
   "id": "04e7a0e1-a988-4406-aaa1-89a21242456b",
   "metadata": {},
   "outputs": [],
   "source": [
    "# Define a function to extract experience information\n",
    "def extract_experience(text):\n",
    "    # Tokenize the text into sentences and words\n",
    "    sentences = sent_tokenize(text)\n",
    "    words = [word_tokenize(sentence) for sentence in sentences]\n",
    "\n",
    "    # Define a pattern to match \"2 years,\" \"2+ years,\" \"3 years,\" \"5 years,\" etc.\n",
    "    experience_pattern = r'(\\d+)(\\s*[\\+]?|[\\+]\\s*)years'\n",
    "\n",
    "    # Extract years of experience from the tokenized text\n",
    "    years_of_experience = None\n",
    "    for sentence_words in words:\n",
    "        sentence = ' '.join(sentence_words)\n",
    "        match = re.search(experience_pattern, sentence, re.IGNORECASE)\n",
    "        if match:\n",
    "            years_of_experience = int(match.group(1))\n",
    "            break\n",
    "\n",
    "    return years_of_experience\n",
    "\n",
    "# Apply the function to the \"description\" column and create a new column \"experience\"\n",
    "df['experience'] = df['description'].apply(extract_experience)\n",
    "\n",
    "# Define a function to categorize experience levels\n",
    "def categorize_experience(row):\n",
    "    title = row['title']\n",
    "    experience = row['experience']\n",
    "\n",
    "    if not pd.isna(experience):\n",
    "        if 'software' in title.lower():\n",
    "            if experience <= 2:\n",
    "                return \"Junior Software Engineer\"\n",
    "            elif 3 <= experience <= 4:\n",
    "                return \"Middle Software Engineer\"\n",
    "            else:\n",
    "                return \"Senior Software Engineer\"\n",
    "        elif 'data' in title.lower():\n",
    "            if experience <= 2:\n",
    "                return \"Junior Data Engineer\"\n",
    "            elif 3 <= experience <= 4:\n",
    "                return \"Middle Data Engineer\"\n",
    "            else:\n",
    "                return \"Senior Data Engineer\"\n",
    "    return \"Other\"\n",
    "\n",
    "# Apply the function to categorize experience levels and create a new column \"experience_level\"\n",
    "df['experience_level'] = df.apply(categorize_experience, axis=1)\n",
    "\n",
    "# Display the modified DataFrame\n",
    "\n",
    "# print(df['experience_level'])"
   ]
  },
  {
   "cell_type": "code",
   "execution_count": 35,
   "id": "fb843136-81ae-4b97-999d-b0293c52651a",
   "metadata": {},
   "outputs": [],
   "source": [
    "# a = df.to_dict('records')"
   ]
  }
 ],
 "metadata": {
  "kernelspec": {
   "display_name": "Python 3 (ipykernel)",
   "language": "python",
   "name": "python3"
  },
  "language_info": {
   "codemirror_mode": {
    "name": "ipython",
    "version": 3
   },
   "file_extension": ".py",
   "mimetype": "text/x-python",
   "name": "python",
   "nbconvert_exporter": "python",
   "pygments_lexer": "ipython3",
   "version": "3.10.5"
  }
 },
 "nbformat": 4,
 "nbformat_minor": 5
}
