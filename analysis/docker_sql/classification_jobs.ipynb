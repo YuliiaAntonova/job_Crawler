{
 "cells": [
  {
   "cell_type": "code",
   "execution_count": 36,
   "id": "ea8f138b-5a77-446f-9149-728c2bd60455",
   "metadata": {},
   "outputs": [],
   "source": [
    "import pandas as pd\n",
    "pd.set_option('display.max_rows', None)\n",
    "import re\n",
    "from nltk.tokenize import sent_tokenize, word_tokenize\n",
    "from decimal import Decimal"
   ]
  },
  {
   "cell_type": "code",
   "execution_count": 37,
   "id": "bc24d164-2270-48ff-887d-a68af88ba25f",
   "metadata": {},
   "outputs": [
    {
     "data": {
      "text/html": [
       "<div>\n",
       "<style scoped>\n",
       "    .dataframe tbody tr th:only-of-type {\n",
       "        vertical-align: middle;\n",
       "    }\n",
       "\n",
       "    .dataframe tbody tr th {\n",
       "        vertical-align: top;\n",
       "    }\n",
       "\n",
       "    .dataframe thead th {\n",
       "        text-align: right;\n",
       "    }\n",
       "</style>\n",
       "<table border=\"1\" class=\"dataframe\">\n",
       "  <thead>\n",
       "    <tr style=\"text-align: right;\">\n",
       "      <th></th>\n",
       "      <th>id</th>\n",
       "      <th>title</th>\n",
       "      <th>company</th>\n",
       "      <th>description</th>\n",
       "      <th>source</th>\n",
       "      <th>location</th>\n",
       "      <th>min_salary</th>\n",
       "      <th>max_salary</th>\n",
       "    </tr>\n",
       "  </thead>\n",
       "  <tbody>\n",
       "    <tr>\n",
       "      <th>0</th>\n",
       "      <td>1</td>\n",
       "      <td>Senior Software Engineer - Remote</td>\n",
       "      <td>Akamai</td>\n",
       "      <td>**Are you a software developer who loves solvi...</td>\n",
       "      <td>indeed.com</td>\n",
       "      <td>United States</td>\n",
       "      <td>$113,430</td>\n",
       "      <td>$170,043</td>\n",
       "    </tr>\n",
       "    <tr>\n",
       "      <th>1</th>\n",
       "      <td>2</td>\n",
       "      <td>Software Engineer II</td>\n",
       "      <td>Microsoft</td>\n",
       "      <td>Microsoft’s Azure Data engineering team is lea...</td>\n",
       "      <td>indeed.com</td>\n",
       "      <td>United States</td>\n",
       "      <td>$94,300</td>\n",
       "      <td>$182,600</td>\n",
       "    </tr>\n",
       "  </tbody>\n",
       "</table>\n",
       "</div>"
      ],
      "text/plain": [
       "   id                              title    company  \\\n",
       "0   1  Senior Software Engineer - Remote     Akamai   \n",
       "1   2               Software Engineer II  Microsoft   \n",
       "\n",
       "                                         description      source  \\\n",
       "0  **Are you a software developer who loves solvi...  indeed.com   \n",
       "1  Microsoft’s Azure Data engineering team is lea...  indeed.com   \n",
       "\n",
       "        location min_salary max_salary  \n",
       "0  United States   $113,430   $170,043  \n",
       "1  United States    $94,300   $182,600  "
      ]
     },
     "execution_count": 37,
     "metadata": {},
     "output_type": "execute_result"
    }
   ],
   "source": [
    "# Read in the train_rev1 datafile downloaded from kaggle\n",
    "df = pd.read_csv('new_combined_results.csv')\n",
    "df.head(2)"
   ]
  },
  {
   "cell_type": "code",
   "execution_count": 38,
   "id": "791db20c-2f7b-4703-b32d-060b80b570f4",
   "metadata": {},
   "outputs": [],
   "source": [
    "# Function to convert salary strings to Decimal and add the corresponding label\n",
    "def convert_salary(salary_str):\n",
    "    if isinstance(salary_str, str):\n",
    "        # Use regular expressions to extract the numeric part of the string\n",
    "        match = re.search(r'\\d+(\\.\\d+)?', salary_str)\n",
    "        if match:\n",
    "            numeric_part = match.group()\n",
    "            numeric_value = Decimal(numeric_part.replace(',', ''))  # Convert to Decimal\n",
    "            if 'K' in salary_str:\n",
    "                return int(numeric_value), 'per year'\n",
    "            elif ',' in salary_str:\n",
    "                return int(numeric_value), 'per year'\n",
    "            elif '.' in salary_str:\n",
    "                return int(numeric_value), 'per hour'\n",
    "            else:\n",
    "                return int(numeric_value), 'per hour'\n",
    "    else:\n",
    "        # If it's already a number (no conversion needed)\n",
    "        return salary_str, ''\n",
    "\n",
    "\n",
    "# Apply the function to 'min_salary' and 'max_salary' columns\n",
    "df['min_salary_year'], df['salary_type'] = zip(*df['min_salary'].apply(convert_salary))\n",
    "df['max_salary_year'], _ = zip(*df['max_salary'].apply(convert_salary))\n",
    "\n",
    "# Calculate annual salary based on 40 hours/week and 52 weeks/year for rows with 'on_hours'\n",
    "df.loc[df['salary_type'] == 'per hour', ['min_salary_year', 'max_salary_year']] *= 40 * 52\n",
    "df.loc[df['salary_type'] == 'per hour', ['min_salary_year', 'max_salary_year']] /= 1000\n",
    "\n",
    "df = df.fillna(value=0)\n",
    "df = df.astype({\"min_salary_year\":'int', \"max_salary_year\":'int'})\n",
    "# df.to_csv('your_file.csv', index=False) "
   ]
  },
  {
   "cell_type": "code",
   "execution_count": 39,
   "id": "a51b6613-81e0-4c2a-bfe7-911dc85ec347",
   "metadata": {},
   "outputs": [
    {
     "name": "stderr",
     "output_type": "stream",
     "text": [
      "[nltk_data] Downloading package punkt to\n",
      "[nltk_data]     /Users/yuliiaantonova/nltk_data...\n",
      "[nltk_data]   Package punkt is already up-to-date!\n"
     ]
    },
    {
     "data": {
      "text/plain": [
       "True"
      ]
     },
     "execution_count": 39,
     "metadata": {},
     "output_type": "execute_result"
    }
   ],
   "source": [
    "import ssl\n",
    "ssl._create_default_https_context = ssl._create_unverified_context\n",
    "\n",
    "import nltk\n",
    "nltk.download('punkt')"
   ]
  },
  {
   "cell_type": "code",
   "execution_count": 40,
   "id": "8af8a015-934a-46c4-84c5-f66d02e299b7",
   "metadata": {},
   "outputs": [],
   "source": [
    "def convert_utf8(s):\n",
    "    return str(s)\n",
    "\n",
    "df['description'] = df['description'].map(convert_utf8)"
   ]
  },
  {
   "cell_type": "code",
   "execution_count": 41,
   "id": "11447fad-e153-46a9-968b-cf0c17bc6a57",
   "metadata": {},
   "outputs": [],
   "source": [
    "# Define a function to extract experience information\n",
    "def extract_experience(text):\n",
    "    # Tokenize the text into sentences and words\n",
    "    sentences = sent_tokenize(text)\n",
    "    words = [word_tokenize(sentence) for sentence in sentences]\n",
    "\n",
    "    # Define a pattern to match \"2 years,\" \"2+ years,\" \"3 years,\" \"5 years,\" etc.\n",
    "    experience_pattern = r'(\\d+)(\\s*[\\+]?|[\\+]\\s*)years'\n",
    "\n",
    "    # Extract years of experience from the tokenized text\n",
    "    years_of_experience = None\n",
    "    for sentence_words in words:\n",
    "        sentence = ' '.join(sentence_words)\n",
    "        match = re.search(experience_pattern, sentence, re.IGNORECASE)\n",
    "        if match:\n",
    "            years_of_experience = match.group(0)\n",
    "            break\n",
    "\n",
    "    return years_of_experience\n",
    "\n",
    "# Apply the function to the \"description\" column and create a new column \"experience\"\n",
    "df['experience'] = df['description'].apply(extract_experience)\n",
    "\n",
    "# Display the modified DataFrame\n",
    "# print(df['experience'])"
   ]
  },
  {
   "cell_type": "code",
   "execution_count": 42,
   "id": "04e7a0e1-a988-4406-aaa1-89a21242456b",
   "metadata": {},
   "outputs": [],
   "source": [
    "# Define a function to extract experience information\n",
    "def extract_experience(text):\n",
    "    # Tokenize the text into sentences and words\n",
    "    sentences = sent_tokenize(text)\n",
    "    words = [word_tokenize(sentence) for sentence in sentences]\n",
    "\n",
    "    # Define a pattern to match \"2 years,\" \"2+ years,\" \"3 years,\" \"5 years,\" etc.\n",
    "    experience_pattern = r'(\\d+)(\\s*[\\+]?|[\\+]\\s*)years'\n",
    "\n",
    "    # Extract years of experience from the tokenized text\n",
    "    years_of_experience = None\n",
    "    for sentence_words in words:\n",
    "        sentence = ' '.join(sentence_words)\n",
    "        match = re.search(experience_pattern, sentence, re.IGNORECASE)\n",
    "        if match:\n",
    "            years_of_experience = int(match.group(1))\n",
    "            break\n",
    "\n",
    "    return years_of_experience\n",
    "\n",
    "# Apply the function to the \"description\" column and create a new column \"experience\"\n",
    "df['experience'] = df['description'].apply(extract_experience)\n",
    "\n",
    "# Define a function to categorize experience levels\n",
    "def categorize_experience(row):\n",
    "    title = row['title']\n",
    "    experience = row['experience']\n",
    "\n",
    "    if not pd.isna(experience):\n",
    "        if 'software' in title.lower():\n",
    "            if experience <= 2:\n",
    "                return \"Junior Software Engineer\"\n",
    "            elif 3 <= experience <= 4:\n",
    "                return \"Middle Software Engineer\"\n",
    "            else:\n",
    "                return \"Senior Software Engineer\"\n",
    "        elif 'data' in title.lower():\n",
    "            if experience <= 2:\n",
    "                return \"Junior Data Engineer\"\n",
    "            elif 3 <= experience <= 4:\n",
    "                return \"Middle Data Engineer\"\n",
    "            else:\n",
    "                return \"Senior Data Engineer\"\n",
    "    return \"Other\"\n",
    "\n",
    "# Apply the function to categorize experience levels and create a new column \"experience_level\"\n",
    "df['experience_level'] = df.apply(categorize_experience, axis=1)"
   ]
  },
  {
   "cell_type": "code",
   "execution_count": 43,
   "id": "4e4b6c27-42af-41ff-958d-2c1a38bec78f",
   "metadata": {},
   "outputs": [],
   "source": [
    "grouped_df = df.groupby('experience_level')\n",
    "\n",
    "# Display the groups (optional)\n",
    "# for group, group_data in grouped_df:\n",
    "#     print(f\"Group: {group}\")\n",
    "#     print(group_data)\n",
    "\n",
    "# If you want to concatenate the groups into a new DataFrame, you can use the following:\n",
    "# Concatenate all groups into a new DataFrame\n",
    "new_df = pd.concat([group_data for _, group_data in grouped_df], ignore_index=True)\n",
    "\n",
    "# Display the new DataFrame"
   ]
  },
  {
   "cell_type": "code",
   "execution_count": 27,
   "id": "39ccc3bb-6c71-496b-8fff-c03846195b89",
   "metadata": {},
   "outputs": [
    {
     "data": {
      "text/plain": [
       "array(['id', 'title', 'company', 'description', 'source', 'location',\n",
       "       'min_salary', 'max_salary', 'min_salary_year', 'salary_type',\n",
       "       'max_salary_year', 'experience', 'experience_level'], dtype=object)"
      ]
     },
     "execution_count": 27,
     "metadata": {},
     "output_type": "execute_result"
    }
   ],
   "source": [
    "df.columns.values"
   ]
  },
  {
   "cell_type": "code",
   "execution_count": 47,
   "id": "dbe15cfa-95aa-4377-8f7d-128b318e5b70",
   "metadata": {},
   "outputs": [
    {
     "data": {
      "text/html": [
       "<div>\n",
       "<style scoped>\n",
       "    .dataframe tbody tr th:only-of-type {\n",
       "        vertical-align: middle;\n",
       "    }\n",
       "\n",
       "    .dataframe tbody tr th {\n",
       "        vertical-align: top;\n",
       "    }\n",
       "\n",
       "    .dataframe thead th {\n",
       "        text-align: right;\n",
       "    }\n",
       "</style>\n",
       "<table border=\"1\" class=\"dataframe\">\n",
       "  <thead>\n",
       "    <tr style=\"text-align: right;\">\n",
       "      <th></th>\n",
       "      <th>experience_level</th>\n",
       "      <th>avg_min_salary</th>\n",
       "      <th>avg_max_salary</th>\n",
       "    </tr>\n",
       "  </thead>\n",
       "  <tbody>\n",
       "    <tr>\n",
       "      <th>0</th>\n",
       "      <td>Junior Data Engineer</td>\n",
       "      <td>80</td>\n",
       "      <td>105</td>\n",
       "    </tr>\n",
       "    <tr>\n",
       "      <th>1</th>\n",
       "      <td>Junior Software Engineer</td>\n",
       "      <td>91</td>\n",
       "      <td>129</td>\n",
       "    </tr>\n",
       "    <tr>\n",
       "      <th>2</th>\n",
       "      <td>Middle Data Engineer</td>\n",
       "      <td>98</td>\n",
       "      <td>125</td>\n",
       "    </tr>\n",
       "    <tr>\n",
       "      <th>3</th>\n",
       "      <td>Middle Software Engineer</td>\n",
       "      <td>103</td>\n",
       "      <td>151</td>\n",
       "    </tr>\n",
       "    <tr>\n",
       "      <th>4</th>\n",
       "      <td>Other</td>\n",
       "      <td>90</td>\n",
       "      <td>122</td>\n",
       "    </tr>\n",
       "    <tr>\n",
       "      <th>5</th>\n",
       "      <td>Senior Data Engineer</td>\n",
       "      <td>104</td>\n",
       "      <td>130</td>\n",
       "    </tr>\n",
       "    <tr>\n",
       "      <th>6</th>\n",
       "      <td>Senior Software Engineer</td>\n",
       "      <td>107</td>\n",
       "      <td>149</td>\n",
       "    </tr>\n",
       "  </tbody>\n",
       "</table>\n",
       "</div>"
      ],
      "text/plain": [
       "           experience_level  avg_min_salary  avg_max_salary\n",
       "0      Junior Data Engineer              80             105\n",
       "1  Junior Software Engineer              91             129\n",
       "2      Middle Data Engineer              98             125\n",
       "3  Middle Software Engineer             103             151\n",
       "4                     Other              90             122\n",
       "5      Senior Data Engineer             104             130\n",
       "6  Senior Software Engineer             107             149"
      ]
     },
     "execution_count": 47,
     "metadata": {},
     "output_type": "execute_result"
    }
   ],
   "source": [
    "# Assuming 'df' is your DataFrame\n",
    "result_df = df.groupby(['experience_level'])[['min_salary_year', 'max_salary_year']].mean().reset_index()\n",
    "result_df.columns = ['experience_level', 'avg_min_salary', 'avg_max_salary']\n",
    "result_df['avg_min_salary'] = result_df['avg_min_salary'].round(0).astype(int)\n",
    "result_df['avg_max_salary'] = result_df['avg_max_salary'].round(0).astype(int)\n",
    "result_df"
   ]
  },
  {
   "cell_type": "code",
   "execution_count": 35,
   "id": "fb843136-81ae-4b97-999d-b0293c52651a",
   "metadata": {},
   "outputs": [],
   "source": [
    "# a = df.to_dict('records')"
   ]
  }
 ],
 "metadata": {
  "kernelspec": {
   "display_name": "Python 3 (ipykernel)",
   "language": "python",
   "name": "python3"
  },
  "language_info": {
   "codemirror_mode": {
    "name": "ipython",
    "version": 3
   },
   "file_extension": ".py",
   "mimetype": "text/x-python",
   "name": "python",
   "nbconvert_exporter": "python",
   "pygments_lexer": "ipython3",
   "version": "3.10.5"
  }
 },
 "nbformat": 4,
 "nbformat_minor": 5
}
