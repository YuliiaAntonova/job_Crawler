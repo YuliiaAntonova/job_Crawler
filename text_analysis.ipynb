{
 "cells": [
  {
   "cell_type": "code",
   "execution_count": 173,
   "id": "67bcf0ef-20c0-4804-8bf3-472111cfca4b",
   "metadata": {},
   "outputs": [],
   "source": [
    "# import libraries\n",
    "import pandas as pd\n",
    "import numpy as np\n",
    "\n",
    "\n",
    "import nltk\n",
    "from nltk.tokenize import word_tokenize\n",
    "\n",
    "import re\n",
    "\n",
    "import matplotlib.pyplot as plt\n",
    "%matplotlib inline\n",
    "\n",
    "import math\n",
    "\n",
    "import warnings\n",
    "warnings.filterwarnings('ignore')"
   ]
  },
  {
   "cell_type": "code",
   "execution_count": 174,
   "id": "f018d66c-7ca5-485f-ad12-abd6da08f384",
   "metadata": {},
   "outputs": [
    {
     "data": {
      "text/html": [
       "<div>\n",
       "<style scoped>\n",
       "    .dataframe tbody tr th:only-of-type {\n",
       "        vertical-align: middle;\n",
       "    }\n",
       "\n",
       "    .dataframe tbody tr th {\n",
       "        vertical-align: top;\n",
       "    }\n",
       "\n",
       "    .dataframe thead th {\n",
       "        text-align: right;\n",
       "    }\n",
       "</style>\n",
       "<table border=\"1\" class=\"dataframe\">\n",
       "  <thead>\n",
       "    <tr style=\"text-align: right;\">\n",
       "      <th></th>\n",
       "      <th>title</th>\n",
       "      <th>company</th>\n",
       "      <th>description</th>\n",
       "      <th>source</th>\n",
       "      <th>location</th>\n",
       "      <th>min_salary</th>\n",
       "      <th>max_salary</th>\n",
       "    </tr>\n",
       "  </thead>\n",
       "  <tbody>\n",
       "    <tr>\n",
       "      <th>0</th>\n",
       "      <td>Senior Software Engineer - Remote</td>\n",
       "      <td>Akamai</td>\n",
       "      <td>**Are you a software developer who loves solvi...</td>\n",
       "      <td>indeed.com</td>\n",
       "      <td>United States</td>\n",
       "      <td>$113,430</td>\n",
       "      <td>$170,043</td>\n",
       "    </tr>\n",
       "    <tr>\n",
       "      <th>1</th>\n",
       "      <td>Software Engineer II</td>\n",
       "      <td>Microsoft</td>\n",
       "      <td>Microsoft’s Azure Data engineering team is lea...</td>\n",
       "      <td>indeed.com</td>\n",
       "      <td>United States</td>\n",
       "      <td>$94,300</td>\n",
       "      <td>$182,600</td>\n",
       "    </tr>\n",
       "  </tbody>\n",
       "</table>\n",
       "</div>"
      ],
      "text/plain": [
       "                               title    company  \\\n",
       "0  Senior Software Engineer - Remote     Akamai   \n",
       "1               Software Engineer II  Microsoft   \n",
       "\n",
       "                                         description      source  \\\n",
       "0  **Are you a software developer who loves solvi...  indeed.com   \n",
       "1  Microsoft’s Azure Data engineering team is lea...  indeed.com   \n",
       "\n",
       "        location min_salary max_salary  \n",
       "0  United States   $113,430   $170,043  \n",
       "1  United States    $94,300   $182,600  "
      ]
     },
     "execution_count": 174,
     "metadata": {},
     "output_type": "execute_result"
    }
   ],
   "source": [
    "df = pd.read_csv('combined_results.csv')\n",
    "df.head(2)"
   ]
  },
  {
   "cell_type": "code",
   "execution_count": 184,
   "id": "f54cf036-7165-4141-907a-104089e73375",
   "metadata": {},
   "outputs": [],
   "source": [
    "import re\n",
    "from decimal import Decimal\n",
    "\n",
    "pd.set_option('display.max_rows', None)\n",
    "pd.set_option('display.max_columns', None)\n",
    "# print(df[['min_salary', 'max_salary']])\n",
    "      \n",
    "# Function to convert salary strings to Decimal and add the corresponding label\n",
    "def convert_salary(salary_str):\n",
    "    if isinstance(salary_str, str):\n",
    "        # Use regular expressions to extract the numeric part of the string\n",
    "        match = re.search(r'\\d+(\\.\\d+)?', salary_str)\n",
    "        if match:\n",
    "            numeric_part = match.group()\n",
    "            numeric_value = Decimal(numeric_part.replace(',', ''))  # Convert to Decimal\n",
    "            if 'K' in salary_str:\n",
    "                return int(numeric_value), 'per year'\n",
    "            elif ',' in salary_str:\n",
    "                return int(numeric_value), 'per year'\n",
    "            elif '.' in salary_str:\n",
    "                return int(numeric_value), 'per hour'\n",
    "            else:\n",
    "                return int(numeric_value), 'per hour'\n",
    "    else:\n",
    "        # If it's already a number (no conversion needed)\n",
    "        return salary_str, ''\n",
    "\n",
    "\n",
    "# Apply the function to 'min_salary' and 'max_salary' columns\n",
    "df['min_salary_year'], df['salary_type'] = zip(*df['min_salary'].apply(convert_salary))\n",
    "df['max_salary_year'], _ = zip(*df['max_salary'].apply(convert_salary))\n",
    "\n",
    "# Calculate annual salary based on 40 hours/week and 52 weeks/year for rows with 'on_hours'\n",
    "df.loc[df['salary_type'] == 'per hour', ['min_salary_year', 'max_salary_year']] *= 40 * 52\n",
    "df.loc[df['salary_type'] == 'per hour', ['min_salary_year', 'max_salary_year']] /= 1000\n",
    "\n",
    "df = df.fillna(value=0)\n",
    "df = df.astype({\"min_salary_year\":'int', \"max_salary_year\":'int'})\n",
    "# df.to_csv('your_file.csv', index=False) \n",
    "  \n",
    "\n"
   ]
  },
  {
   "cell_type": "code",
   "execution_count": 185,
   "id": "1da3bc2c-51bd-44ea-b952-66b8a373aae2",
   "metadata": {},
   "outputs": [
    {
     "name": "stdout",
     "output_type": "stream",
     "text": [
      "Data Shape: (937, 10)\n"
     ]
    }
   ],
   "source": [
    "print(\"Data Shape:\", df.shape)"
   ]
  },
  {
   "cell_type": "code",
   "execution_count": 186,
   "id": "660d4881-74fb-4cd2-8275-5d33ef68069f",
   "metadata": {},
   "outputs": [
    {
     "data": {
      "text/plain": [
       "[137, 582, 867, 821, 782]"
      ]
     },
     "execution_count": 186,
     "metadata": {},
     "output_type": "execute_result"
    }
   ],
   "source": [
    "# randomly sample 900 rows from the data\n",
    "import random\n",
    "random.seed(1)\n",
    "indices = df.index.values.tolist()\n",
    "\n",
    "random_900 = random.sample(indices, 900)\n",
    "\n",
    "random_900[:5]"
   ]
  },
  {
   "cell_type": "code",
   "execution_count": 187,
   "id": "d185d128-adf5-4962-bf09-ce31ee4387ef",
   "metadata": {},
   "outputs": [
    {
     "data": {
      "text/html": [
       "<div>\n",
       "<style scoped>\n",
       "    .dataframe tbody tr th:only-of-type {\n",
       "        vertical-align: middle;\n",
       "    }\n",
       "\n",
       "    .dataframe tbody tr th {\n",
       "        vertical-align: top;\n",
       "    }\n",
       "\n",
       "    .dataframe thead th {\n",
       "        text-align: right;\n",
       "    }\n",
       "</style>\n",
       "<table border=\"1\" class=\"dataframe\">\n",
       "  <thead>\n",
       "    <tr style=\"text-align: right;\">\n",
       "      <th></th>\n",
       "      <th>title</th>\n",
       "      <th>company</th>\n",
       "      <th>description</th>\n",
       "      <th>source</th>\n",
       "      <th>location</th>\n",
       "      <th>min_salary</th>\n",
       "      <th>max_salary</th>\n",
       "      <th>min_salary_year</th>\n",
       "      <th>salary_type</th>\n",
       "      <th>max_salary_year</th>\n",
       "    </tr>\n",
       "  </thead>\n",
       "  <tbody>\n",
       "    <tr>\n",
       "      <th>0</th>\n",
       "      <td>Data Engineer Technical Specialist</td>\n",
       "      <td>Peraton</td>\n",
       "      <td>**Peraton Overview**  \\nPeraton drives mission...</td>\n",
       "      <td>indeed.com</td>\n",
       "      <td>United States</td>\n",
       "      <td>$146,000</td>\n",
       "      <td>$234,000</td>\n",
       "      <td>146</td>\n",
       "      <td>per year</td>\n",
       "      <td>234</td>\n",
       "    </tr>\n",
       "    <tr>\n",
       "      <th>1</th>\n",
       "      <td>Software Engineer - Fullstack</td>\n",
       "      <td>Brigit3.8 ★</td>\n",
       "      <td>Hi, we're Brigit! A holistic financial health ...</td>\n",
       "      <td>glassdoor.com</td>\n",
       "      <td>New York, NY</td>\n",
       "      <td>$100K</td>\n",
       "      <td>$170K</td>\n",
       "      <td>100</td>\n",
       "      <td>per year</td>\n",
       "      <td>170</td>\n",
       "    </tr>\n",
       "    <tr>\n",
       "      <th>2</th>\n",
       "      <td>Data Scientist</td>\n",
       "      <td>LifeScale Analytics</td>\n",
       "      <td>At Lifescale Analytics, we help achieve data-d...</td>\n",
       "      <td>glassdoor.com</td>\n",
       "      <td>Eagan, MN</td>\n",
       "      <td>$87K</td>\n",
       "      <td>$119K</td>\n",
       "      <td>87</td>\n",
       "      <td>per year</td>\n",
       "      <td>119</td>\n",
       "    </tr>\n",
       "    <tr>\n",
       "      <th>3</th>\n",
       "      <td>Data Scientist (Exempt)</td>\n",
       "      <td>Mercy3.5 ★</td>\n",
       "      <td>We're a Little Different\\n\\nOur mission is cle...</td>\n",
       "      <td>glassdoor.com</td>\n",
       "      <td>Chesterfield, MO</td>\n",
       "      <td>$86K</td>\n",
       "      <td>$122K</td>\n",
       "      <td>86</td>\n",
       "      <td>per year</td>\n",
       "      <td>122</td>\n",
       "    </tr>\n",
       "    <tr>\n",
       "      <th>4</th>\n",
       "      <td>Data Scientist</td>\n",
       "      <td>Praxis Precision Medicines2.6 ★</td>\n",
       "      <td>Data Scientist\\nLocation: This position may be...</td>\n",
       "      <td>glassdoor.com</td>\n",
       "      <td>Charlestown, MA</td>\n",
       "      <td>$80K</td>\n",
       "      <td>$90K</td>\n",
       "      <td>80</td>\n",
       "      <td>per year</td>\n",
       "      <td>90</td>\n",
       "    </tr>\n",
       "  </tbody>\n",
       "</table>\n",
       "</div>"
      ],
      "text/plain": [
       "                                title                          company  \\\n",
       "0  Data Engineer Technical Specialist                          Peraton   \n",
       "1       Software Engineer - Fullstack                      Brigit3.8 ★   \n",
       "2                      Data Scientist              LifeScale Analytics   \n",
       "3             Data Scientist (Exempt)                       Mercy3.5 ★   \n",
       "4                      Data Scientist  Praxis Precision Medicines2.6 ★   \n",
       "\n",
       "                                         description         source  \\\n",
       "0  **Peraton Overview**  \\nPeraton drives mission...     indeed.com   \n",
       "1  Hi, we're Brigit! A holistic financial health ...  glassdoor.com   \n",
       "2  At Lifescale Analytics, we help achieve data-d...  glassdoor.com   \n",
       "3  We're a Little Different\\n\\nOur mission is cle...  glassdoor.com   \n",
       "4  Data Scientist\\nLocation: This position may be...  glassdoor.com   \n",
       "\n",
       "           location min_salary max_salary  min_salary_year salary_type  \\\n",
       "0     United States   $146,000   $234,000              146    per year   \n",
       "1      New York, NY      $100K      $170K              100    per year   \n",
       "2         Eagan, MN       $87K      $119K               87    per year   \n",
       "3  Chesterfield, MO       $86K      $122K               86    per year   \n",
       "4   Charlestown, MA       $80K       $90K               80    per year   \n",
       "\n",
       "   max_salary_year  \n",
       "0              234  \n",
       "1              170  \n",
       "2              119  \n",
       "3              122  \n",
       "4               90  "
      ]
     },
     "execution_count": 187,
     "metadata": {},
     "output_type": "execute_result"
    }
   ],
   "source": [
    "# subset the imported data on the selected 2500 indices\n",
    "train = df.loc[random_900, :]\n",
    "train = train.reset_index(drop = True)\n",
    "train.head()"
   ]
  },
  {
   "cell_type": "code",
   "execution_count": 188,
   "id": "3ce59db1-a541-4446-872d-e58e4c471416",
   "metadata": {},
   "outputs": [
    {
     "data": {
      "text/plain": [
       "array(['title', 'company', 'description', 'source', 'location',\n",
       "       'min_salary', 'max_salary', 'min_salary_year', 'salary_type',\n",
       "       'max_salary_year'], dtype=object)"
      ]
     },
     "execution_count": 188,
     "metadata": {},
     "output_type": "execute_result"
    }
   ],
   "source": [
    "train.columns.values"
   ]
  },
  {
   "cell_type": "code",
   "execution_count": 190,
   "id": "ba727122-ffdc-42ba-9347-ab741cf6a02c",
   "metadata": {},
   "outputs": [],
   "source": [
    "def convert_utf8(s):\n",
    "    return str(s)\n",
    "\n",
    "train['description'] = train['description'].map(convert_utf8)"
   ]
  },
  {
   "cell_type": "code",
   "execution_count": 192,
   "id": "f4242c5b-51bb-46c9-8aca-e31afa6b1ccc",
   "metadata": {},
   "outputs": [],
   "source": [
    "# Remove the urls first - Anything that has .com, .co.uk or www. is a url!\n",
    "def remove_urls(s):\n",
    "    s = re.sub('[^\\s]*.com[^\\s]*', \"\", s)\n",
    "    s = re.sub('[^\\s]*www.[^\\s]*', \"\", s)\n",
    "    s = re.sub('[^\\s]*.co.uk[^\\s]*', \"\", s)\n",
    "    return s\n",
    "\n",
    "train['Clean_Full_Descriptions'] = train['description'].map(remove_urls)"
   ]
  },
  {
   "cell_type": "code",
   "execution_count": 193,
   "id": "c4a71940-2d71-42bc-b9f9-938bc8008884",
   "metadata": {},
   "outputs": [],
   "source": [
    "# Remove the star_words\n",
    "def remove_star_words(s):\n",
    "    return re.sub('[^\\s]*[\\*]+[^\\s]*', \"\", s)\n",
    "\n",
    "train['Clean_Full_Descriptions'] = train['Clean_Full_Descriptions'].map(remove_star_words)"
   ]
  },
  {
   "cell_type": "code",
   "execution_count": 194,
   "id": "c6654e44-25d0-4405-b435-709e5ce76d5e",
   "metadata": {},
   "outputs": [],
   "source": [
    "def remove_nums(s):\n",
    "    return re.sub('[^\\s]*[0-9]+[^\\s]*', \"\", s)\n",
    "\n",
    "train['Clean_Full_Descriptions'] = train['Clean_Full_Descriptions'].map(remove_nums)"
   ]
  },
  {
   "cell_type": "code",
   "execution_count": 195,
   "id": "531d306b-01f3-43e7-bdaa-fd5c7e410bf1",
   "metadata": {},
   "outputs": [],
   "source": [
    "# Remove the punctuations\n",
    "from string import punctuation\n",
    "\n",
    "def remove_punctuation(s):\n",
    "    global punctuation\n",
    "    for p in punctuation:\n",
    "        s = s.replace(p, '')\n",
    "    return s\n",
    "\n",
    "train['Clean_Full_Descriptions'] = train['Clean_Full_Descriptions'].map(remove_punctuation)"
   ]
  },
  {
   "cell_type": "code",
   "execution_count": 196,
   "id": "39e81a89-cd78-4f94-896f-54f5fd87e7da",
   "metadata": {},
   "outputs": [],
   "source": [
    "# Convert to lower case\n",
    "train['Clean_Full_Descriptions'] = train['Clean_Full_Descriptions'].map(lambda x: x.lower())"
   ]
  },
  {
   "cell_type": "code",
   "execution_count": 197,
   "id": "bfb7a430-4461-4ecf-befe-cde1c3edfadd",
   "metadata": {},
   "outputs": [],
   "source": [
    "import nltk"
   ]
  },
  {
   "cell_type": "code",
   "execution_count": 198,
   "id": "db7c001e-1abf-481b-af44-bb95ad2e6bbd",
   "metadata": {},
   "outputs": [
    {
     "name": "stderr",
     "output_type": "stream",
     "text": [
      "[nltk_data] Downloading package averaged_perceptron_tagger to\n",
      "[nltk_data]     /Users/yuliiaantonova/nltk_data...\n",
      "[nltk_data]   Package averaged_perceptron_tagger is already up-to-\n",
      "[nltk_data]       date!\n"
     ]
    },
    {
     "data": {
      "text/plain": [
       "True"
      ]
     },
     "execution_count": 198,
     "metadata": {},
     "output_type": "execute_result"
    }
   ],
   "source": [
    "nltk.download('averaged_perceptron_tagger')"
   ]
  },
  {
   "cell_type": "code",
   "execution_count": 199,
   "id": "ab263556-0425-499e-af8f-175d0b8d0870",
   "metadata": {},
   "outputs": [
    {
     "name": "stdout",
     "output_type": "stream",
     "text": [
      "[('I', 'PRP'), ('love', 'VBP'), ('riding', 'VBG'), ('my', 'PRP$'), ('motorcycle', 'NN')]\n"
     ]
    }
   ],
   "source": [
    "print(nltk.pos_tag(word_tokenize(\"I love riding my motorcycle\")))"
   ]
  },
  {
   "cell_type": "code",
   "execution_count": 200,
   "id": "9da3f8cc-7f90-4500-a535-8ccf422d177f",
   "metadata": {},
   "outputs": [
    {
     "data": {
      "text/plain": [
       "NN     135729\n",
       "NNS     65070\n",
       "JJ      58116\n",
       "IN      54132\n",
       "CC      34646\n",
       "dtype: int64"
      ]
     },
     "execution_count": 200,
     "metadata": {},
     "output_type": "execute_result"
    }
   ],
   "source": [
    "# make a corpus of all the words in the job description\n",
    "corpus = \" \".join(train['Clean_Full_Descriptions'].tolist())\n",
    "\n",
    "# This is the NLTK function that breaks a string down to its tokens\n",
    "tokens = word_tokenize(corpus)\n",
    "\n",
    "# Get the parts of speech tag for all words\n",
    "answer = nltk.pos_tag(tokens)\n",
    "answer_pos = [a[1] for a in answer]\n",
    "\n",
    "# print a value count for the parts of speech\n",
    "all_pos = pd.Series(answer_pos)\n",
    "all_pos.value_counts().head()"
   ]
  },
  {
   "cell_type": "code",
   "execution_count": 201,
   "id": "b7b473cc-97c5-457e-8f54-fa787ae2cbf7",
   "metadata": {},
   "outputs": [],
   "source": [
    "import nltk"
   ]
  },
  {
   "cell_type": "code",
   "execution_count": 202,
   "id": "7c974171-99d3-4330-94f4-07198ac51483",
   "metadata": {},
   "outputs": [
    {
     "name": "stderr",
     "output_type": "stream",
     "text": [
      "[nltk_data] Downloading package stopwords to\n",
      "[nltk_data]     /Users/yuliiaantonova/nltk_data...\n",
      "[nltk_data]   Package stopwords is already up-to-date!\n"
     ]
    },
    {
     "data": {
      "text/plain": [
       "True"
      ]
     },
     "execution_count": 202,
     "metadata": {},
     "output_type": "execute_result"
    }
   ],
   "source": [
    "nltk.download('stopwords')"
   ]
  },
  {
   "cell_type": "code",
   "execution_count": 240,
   "id": "24f586f7-7ae3-49f8-8597-064cc0afcca4",
   "metadata": {},
   "outputs": [
    {
     "data": {
      "text/plain": [
       "NN     129343\n",
       "NNS     63953\n",
       "JJ      58874\n",
       "VBP     21985\n",
       "VBG     19690\n",
       "dtype: int64"
      ]
     },
     "execution_count": 240,
     "metadata": {},
     "output_type": "execute_result"
    }
   ],
   "source": [
    "# store english stopwords in a list\n",
    "from nltk.corpus import stopwords\n",
    "en_stopwords = stopwords.words('english')\n",
    "\n",
    "# define a function to remove stopwords from descriptions\n",
    "def remove_stopwords(s):\n",
    "    global en_stopwords\n",
    "    s = word_tokenize(s)\n",
    "    s = \" \".join([w for w in s if w not in en_stopwords])\n",
    "    return s\n",
    "\n",
    "# Create a new column of descriptions with no stopwords\n",
    "train['Clean_Full_Descriptions_no_stop'] = train['Clean_Full_Descriptions'].map(remove_stopwords)\n",
    "\n",
    "# make a corpus of all the words in the job description\n",
    "corpus = \" \".join(train['Clean_Full_Descriptions_no_stop'].tolist())\n",
    "\n",
    "# This is the NLTK function that breaks a string down to its tokens\n",
    "tokens = word_tokenize(corpus)\n",
    "\n",
    "answer = nltk.pos_tag(tokens)\n",
    "answer_pos = [a[1] for a in answer]\n",
    "\n",
    "all_pos = pd.Series(answer_pos)\n",
    "all_pos.value_counts().head()"
   ]
  },
  {
   "cell_type": "code",
   "execution_count": 241,
   "id": "07b23ecd-1867-4636-917f-3d11c3dbad71",
   "metadata": {},
   "outputs": [
    {
     "name": "stdout",
     "output_type": "stream",
     "text": [
      "[('and', 29041), ('to', 16296), ('the', 12877), ('of', 10940), ('data', 9744), ('in', 8646), ('a', 8442), ('with', 7390), ('for', 6429), ('experience', 5104), ('or', 5006), ('our', 4430), ('we', 4199), ('is', 3946), ('you', 3525), ('as', 3459), ('on', 3062), ('work', 2956), ('that', 2637), ('are', 2610), ('will', 2494), ('be', 2393), ('team', 2226), ('an', 2180), ('this', 2120), ('’', 2106), ('business', 2092), ('at', 1976), ('years', 1702), ('skills', 1590), ('other', 1536), ('by', 1511), ('your', 1484), ('development', 1434), ('from', 1364), ('software', 1352), ('all', 1342), ('including', 1285), ('s', 1268), ('solutions', 1255), ('benefits', 1238), ('science', 1228), ('have', 1225), ('us', 1179), ('ability', 1171), ('design', 1140), ('engineering', 1136), ('role', 1101), ('new', 1063), ('working', 1061), ('support', 1031), ('job', 1028), ('information', 998), ('required', 996), ('more', 995), ('their', 989), ('status', 989), ('position', 975), ('analysis', 973), ('knowledge', 971), ('analytics', 942), ('time', 907), ('health', 900), ('requirements', 894), ('management', 881), ('systems', 880), ('learning', 879), ('technical', 873), ('not', 868), ('develop', 867), ('tools', 865), ('such', 861), ('sql', 858), ('strong', 842), ('teams', 830), ('using', 819), ('opportunity', 817), ('environment', 817), ('product', 807), ('employees', 803), ('may', 790), ('build', 788), ('about', 781), ('degree', 768), ('disability', 763), ('range', 759), ('related', 757), ('can', 741), ('insurance', 722), ('across', 717), ('python', 715), ('any', 710), ('preferred', 705), ('employment', 700), ('pay', 700), ('people', 687), ('engineer', 684), ('provide', 683), ('paid', 674), ('services', 674)]\n"
     ]
    }
   ],
   "source": [
    "# prepare corpus from the descriptions that still have stopwords\n",
    "corpus = \" \".join(train['Clean_Full_Descriptions'].tolist())\n",
    "\n",
    "#tokenize words\n",
    "tokenized_corpus = nltk.word_tokenize(corpus)\n",
    "fd = nltk.FreqDist(tokenized_corpus)\n",
    "\n",
    "# get the top words\n",
    "top_words = []\n",
    "for key, value in fd.items():\n",
    "    top_words.append((key, value))\n",
    "\n",
    "# sort the list by the top frequencies\n",
    "top_words = sorted(top_words, key = lambda x:x[1], reverse = True)\n",
    "\n",
    "# keep top 100 words only\n",
    "top_words = top_words[:100]\n",
    "print(top_words)\n",
    "\n",
    "# Keep the frequencies only from the top word series\n",
    "top_word_series = pd.Series([w for (v,w) in top_words])\n",
    "top_word_series[:5]\n",
    "\n",
    "# get actual ranks of these words - wherever we see same frequencies, we give same rank\n",
    "word_ranks = top_word_series.rank(method = 'min', ascending = False)"
   ]
  },
  {
   "cell_type": "code",
   "execution_count": 207,
   "id": "1c6ff22f-d2ed-471e-b216-d789f5c9a2a9",
   "metadata": {},
   "outputs": [
    {
     "name": "stdout",
     "output_type": "stream",
     "text": [
      "The value of theta obtained is: [-1.04001396]\n"
     ]
    },
    {
     "data": {
      "text/plain": [
       "<matplotlib.legend.Legend at 0x7faa9b83c3a0>"
      ]
     },
     "execution_count": 207,
     "metadata": {},
     "output_type": "execute_result"
    },
    {
     "data": {
      "image/png": "[encoded data removed]",
      "text/plain": [
       "<Figure size 576x360 with 1 Axes>"
      ]
     },
     "metadata": {
      "needs_background": "light"
     },
     "output_type": "display_data"
    }
   ],
   "source": [
    "# Get the value of the denominator n*x_n\n",
    "denominator = max(word_ranks)*min(top_word_series)\n",
    "\n",
    "# Y variable is the log of word ranks and X is the word frequency divided by the denominator\n",
    "# above\n",
    "Y = np.array(np.log(word_ranks))\n",
    "X = np.array(np.log(top_word_series/denominator))\n",
    "\n",
    "# fit a linear regression to these, we dont need the intercept!\n",
    "from sklearn import linear_model\n",
    "reg_model = linear_model.LinearRegression(fit_intercept = False)\n",
    "reg_model.fit(Y.reshape(-1,1), X)\n",
    "print(\"The value of theta obtained is:\",reg_model.coef_)\n",
    "\n",
    "# make a plot of actual rank obtained vs theoretical rank expected\n",
    "plt.figure(figsize = (8,5))\n",
    "plt.scatter(Y, X, label = \"Actual Rank vs Frequency\")\n",
    "plt.title('Log(Rank) vs Log(Frequency/nx(n))')\n",
    "plt.xlabel('Log Rank')\n",
    "plt.ylabel('Log(Frequency/nx(n))')\n",
    "\n",
    "plt.plot(reg_model.predict(X.reshape(-1,1)), X, color = 'red', label = \"Zipf's law\")\n",
    "plt.legend()"
   ]
  },
  {
   "cell_type": "code",
   "execution_count": 208,
   "id": "ec79484c-f740-4639-9629-d68991a089e5",
   "metadata": {},
   "outputs": [],
   "source": [
    "# import the necessary functions from the nltk library\n",
    "from nltk.stem.wordnet import WordNetLemmatizer\n",
    "lmtzr = WordNetLemmatizer()"
   ]
  },
  {
   "cell_type": "code",
   "execution_count": 34,
   "id": "b3ea1a96-ff45-4d54-995a-08386f707cb7",
   "metadata": {},
   "outputs": [
    {
     "name": "stderr",
     "output_type": "stream",
     "text": [
      "[nltk_data] Downloading package wordnet to\n",
      "[nltk_data]     /Users/yuliiaantonova/nltk_data...\n"
     ]
    },
    {
     "data": {
      "text/plain": [
       "True"
      ]
     },
     "execution_count": 34,
     "metadata": {},
     "output_type": "execute_result"
    }
   ],
   "source": [
    "import nltk\n",
    "nltk.download('wordnet')"
   ]
  },
  {
   "cell_type": "code",
   "execution_count": 209,
   "id": "0d361534-ef5e-40df-9878-ebeed7caf5aa",
   "metadata": {},
   "outputs": [
    {
     "data": {
      "text/plain": [
       "[('data', 9744),\n",
       " ('experience', 5328),\n",
       " ('work', 3111),\n",
       " ('team', 3056),\n",
       " ('year', 2239),\n",
       " ('business', 2208),\n",
       " ('’', 2106),\n",
       " ('skill', 1663),\n",
       " ('development', 1447),\n",
       " ('solution', 1412)]"
      ]
     },
     "execution_count": 209,
     "metadata": {},
     "output_type": "execute_result"
    }
   ],
   "source": [
    "# prepare corpus from the descriptions that dont have stopwords\n",
    "corpus = \" \".join(train['Clean_Full_Descriptions_no_stop'].tolist())\n",
    "\n",
    "#tokenize words\n",
    "tokenized_corpus = nltk.word_tokenize(corpus)\n",
    "\n",
    "# lemmatize these tokens\n",
    "lemmatized_tokens = [lmtzr.lemmatize(token) for token in tokenized_corpus]\n",
    "\n",
    "# word frequencies for the lemmatized tokens\n",
    "fd = nltk.FreqDist(lemmatized_tokens)\n",
    "\n",
    "# get the top words\n",
    "top_words = []\n",
    "for key, value in fd.items():\n",
    "    top_words.append((key, value))\n",
    "\n",
    "# sort the list by the top frequencies\n",
    "top_words = sorted(top_words, key = lambda x:x[1], reverse = True)\n",
    "\n",
    "# keep top 10 words only\n",
    "top_words = top_words[:10]\n",
    "\n",
    "top_words"
   ]
  },
  {
   "cell_type": "code",
   "execution_count": 210,
   "id": "55475a00-9d16-40fe-a6fd-759668f328fd",
   "metadata": {},
   "outputs": [
    {
     "name": "stderr",
     "output_type": "stream",
     "text": [
      "[nltk_data] Downloading package omw-1.4 to\n",
      "[nltk_data]     /Users/yuliiaantonova/nltk_data...\n",
      "[nltk_data]   Package omw-1.4 is already up-to-date!\n"
     ]
    },
    {
     "data": {
      "text/plain": [
       "True"
      ]
     },
     "execution_count": 210,
     "metadata": {},
     "output_type": "execute_result"
    }
   ],
   "source": [
    "import nltk\n",
    "nltk.download('omw-1.4')"
   ]
  },
  {
   "cell_type": "code",
   "execution_count": 211,
   "id": "5f36d434-c0cd-493b-a729-8a010abcee6b",
   "metadata": {},
   "outputs": [
    {
     "data": {
      "text/plain": [
       "[('data', 9744),\n",
       " ('experience', 5328),\n",
       " ('work', 3111),\n",
       " ('team', 3056),\n",
       " ('year', 2239),\n",
       " ('business', 2208),\n",
       " ('’', 2106),\n",
       " ('skill', 1663),\n",
       " ('development', 1447),\n",
       " ('solution', 1412)]"
      ]
     },
     "execution_count": 211,
     "metadata": {},
     "output_type": "execute_result"
    }
   ],
   "source": [
    "# import the necessary functions from the nltk library\n",
    "from nltk.stem.wordnet import WordNetLemmatizer\n",
    "lmtzr = WordNetLemmatizer()\n",
    "\n",
    "# prepare corpus from the descriptions that dont have stopwords\n",
    "corpus = \" \".join(train['Clean_Full_Descriptions_no_stop'].tolist())\n",
    "\n",
    "#tokenize words\n",
    "tokenized_corpus = nltk.word_tokenize(corpus)\n",
    "\n",
    "# lemmatize these tokens\n",
    "lemmatized_tokens = [lmtzr.lemmatize(token) for token in tokenized_corpus]\n",
    "\n",
    "# word frequencies for the lemmatized tokens\n",
    "fd = nltk.FreqDist(lemmatized_tokens)\n",
    "\n",
    "# get the top words\n",
    "top_words = []\n",
    "for key, value in fd.items():\n",
    "    top_words.append((key, value))\n",
    "\n",
    "# sort the list by the top frequencies\n",
    "top_words = sorted(top_words, key = lambda x:x[1], reverse = True)\n",
    "\n",
    "# keep top 10 words only\n",
    "top_words = top_words[:10]\n",
    "\n",
    "top_words"
   ]
  },
  {
   "cell_type": "code",
   "execution_count": 212,
   "id": "727a7292-8263-497e-aecd-47fd4efcac7f",
   "metadata": {},
   "outputs": [],
   "source": [
    "# get the 75th percentile value of salary!\n",
    "sal_perc_75 = np.percentile(train['max_salary_year'], 75)\n",
    "\n",
    "# make a new target variable that captures whether salary is high (1) or low (0)\n",
    "train['Salary_Target'] = np.where(train['max_salary_year'] >= sal_perc_75, 1, 0)"
   ]
  },
  {
   "cell_type": "code",
   "execution_count": 216,
   "id": "ffd428a7-07de-4244-8c5b-63362ac4a1be",
   "metadata": {},
   "outputs": [
    {
     "data": {
      "text/html": [
       "<div>\n",
       "<style scoped>\n",
       "    .dataframe tbody tr th:only-of-type {\n",
       "        vertical-align: middle;\n",
       "    }\n",
       "\n",
       "    .dataframe tbody tr th {\n",
       "        vertical-align: top;\n",
       "    }\n",
       "\n",
       "    .dataframe thead th {\n",
       "        text-align: right;\n",
       "    }\n",
       "</style>\n",
       "<table border=\"1\" class=\"dataframe\">\n",
       "  <thead>\n",
       "    <tr style=\"text-align: right;\">\n",
       "      <th></th>\n",
       "      <th>title</th>\n",
       "      <th>company</th>\n",
       "      <th>description</th>\n",
       "      <th>source</th>\n",
       "      <th>location</th>\n",
       "      <th>min_salary</th>\n",
       "      <th>max_salary</th>\n",
       "      <th>min_salary_year</th>\n",
       "      <th>salary_type</th>\n",
       "      <th>max_salary_year</th>\n",
       "      <th>Clean_Full_Descriptions</th>\n",
       "      <th>Clean_Full_Descriptions_no_stop</th>\n",
       "      <th>Salary_Target</th>\n",
       "    </tr>\n",
       "  </thead>\n",
       "  <tbody>\n",
       "    <tr>\n",
       "      <th>0</th>\n",
       "      <td>Data Engineer Technical Specialist</td>\n",
       "      <td>Peraton</td>\n",
       "      <td>**Peraton Overview**  \\nPeraton drives mission...</td>\n",
       "      <td>indeed.com</td>\n",
       "      <td>United States</td>\n",
       "      <td>$146,000</td>\n",
       "      <td>$234,000</td>\n",
       "      <td>146</td>\n",
       "      <td>per year</td>\n",
       "      <td>234</td>\n",
       "      <td>\\nperaton drives missions of consequence sp...</td>\n",
       "      <td>peraton drives missions consequence spanning g...</td>\n",
       "      <td>1</td>\n",
       "    </tr>\n",
       "    <tr>\n",
       "      <th>1</th>\n",
       "      <td>Software Engineer - Fullstack</td>\n",
       "      <td>Brigit3.8 ★</td>\n",
       "      <td>Hi, we're Brigit! A holistic financial health ...</td>\n",
       "      <td>glassdoor.com</td>\n",
       "      <td>New York, NY</td>\n",
       "      <td>$100K</td>\n",
       "      <td>$170K</td>\n",
       "      <td>100</td>\n",
       "      <td>per year</td>\n",
       "      <td>170</td>\n",
       "      <td>hi were brigit a holistic financial  helping e...</td>\n",
       "      <td>hi brigit holistic financial helping every ame...</td>\n",
       "      <td>1</td>\n",
       "    </tr>\n",
       "    <tr>\n",
       "      <th>2</th>\n",
       "      <td>Data Scientist</td>\n",
       "      <td>LifeScale Analytics</td>\n",
       "      <td>At Lifescale Analytics, we help achieve data-d...</td>\n",
       "      <td>glassdoor.com</td>\n",
       "      <td>Eagan, MN</td>\n",
       "      <td>$87K</td>\n",
       "      <td>$119K</td>\n",
       "      <td>87</td>\n",
       "      <td>per year</td>\n",
       "      <td>119</td>\n",
       "      <td>at lifescale analytics we help achieve datadri...</td>\n",
       "      <td>lifescale analytics help achieve datadriven de...</td>\n",
       "      <td>0</td>\n",
       "    </tr>\n",
       "    <tr>\n",
       "      <th>3</th>\n",
       "      <td>Data Scientist (Exempt)</td>\n",
       "      <td>Mercy3.5 ★</td>\n",
       "      <td>We're a Little Different\\n\\nOur mission is cle...</td>\n",
       "      <td>glassdoor.com</td>\n",
       "      <td>Chesterfield, MO</td>\n",
       "      <td>$86K</td>\n",
       "      <td>$122K</td>\n",
       "      <td>86</td>\n",
       "      <td>per year</td>\n",
       "      <td>122</td>\n",
       "      <td>were a little different\\n\\nour mission is clea...</td>\n",
       "      <td>little different mission clear bring life heal...</td>\n",
       "      <td>0</td>\n",
       "    </tr>\n",
       "    <tr>\n",
       "      <th>4</th>\n",
       "      <td>Data Scientist</td>\n",
       "      <td>Praxis Precision Medicines2.6 ★</td>\n",
       "      <td>Data Scientist\\nLocation: This position may be...</td>\n",
       "      <td>glassdoor.com</td>\n",
       "      <td>Charlestown, MA</td>\n",
       "      <td>$80K</td>\n",
       "      <td>$90K</td>\n",
       "      <td>80</td>\n",
       "      <td>per year</td>\n",
       "      <td>90</td>\n",
       "      <td>data scientist\\nlocation this position may be ...</td>\n",
       "      <td>data scientist location position may performed...</td>\n",
       "      <td>0</td>\n",
       "    </tr>\n",
       "  </tbody>\n",
       "</table>\n",
       "</div>"
      ],
      "text/plain": [
       "                                title                          company  \\\n",
       "0  Data Engineer Technical Specialist                          Peraton   \n",
       "1       Software Engineer - Fullstack                      Brigit3.8 ★   \n",
       "2                      Data Scientist              LifeScale Analytics   \n",
       "3             Data Scientist (Exempt)                       Mercy3.5 ★   \n",
       "4                      Data Scientist  Praxis Precision Medicines2.6 ★   \n",
       "\n",
       "                                         description         source  \\\n",
       "0  **Peraton Overview**  \\nPeraton drives mission...     indeed.com   \n",
       "1  Hi, we're Brigit! A holistic financial health ...  glassdoor.com   \n",
       "2  At Lifescale Analytics, we help achieve data-d...  glassdoor.com   \n",
       "3  We're a Little Different\\n\\nOur mission is cle...  glassdoor.com   \n",
       "4  Data Scientist\\nLocation: This position may be...  glassdoor.com   \n",
       "\n",
       "           location min_salary max_salary  min_salary_year salary_type  \\\n",
       "0     United States   $146,000   $234,000              146    per year   \n",
       "1      New York, NY      $100K      $170K              100    per year   \n",
       "2         Eagan, MN       $87K      $119K               87    per year   \n",
       "3  Chesterfield, MO       $86K      $122K               86    per year   \n",
       "4   Charlestown, MA       $80K       $90K               80    per year   \n",
       "\n",
       "   max_salary_year                            Clean_Full_Descriptions  \\\n",
       "0              234     \\nperaton drives missions of consequence sp...   \n",
       "1              170  hi were brigit a holistic financial  helping e...   \n",
       "2              119  at lifescale analytics we help achieve datadri...   \n",
       "3              122  were a little different\\n\\nour mission is clea...   \n",
       "4               90  data scientist\\nlocation this position may be ...   \n",
       "\n",
       "                     Clean_Full_Descriptions_no_stop  Salary_Target  \n",
       "0  peraton drives missions consequence spanning g...              1  \n",
       "1  hi brigit holistic financial helping every ame...              1  \n",
       "2  lifescale analytics help achieve datadriven de...              0  \n",
       "3  little different mission clear bring life heal...              0  \n",
       "4  data scientist location position may performed...              0  "
      ]
     },
     "execution_count": 216,
     "metadata": {},
     "output_type": "execute_result"
    }
   ],
   "source": [
    "train.head()"
   ]
  },
  {
   "cell_type": "code",
   "execution_count": 213,
   "id": "6b6c0347-66f2-406c-9bab-5b74ded8b0a5",
   "metadata": {},
   "outputs": [
    {
     "data": {
      "text/plain": [
       "object    10\n",
       "int64      3\n",
       "dtype: int64"
      ]
     },
     "execution_count": 213,
     "metadata": {},
     "output_type": "execute_result"
    }
   ],
   "source": [
    "train.dtypes.value_counts()"
   ]
  },
  {
   "cell_type": "code",
   "execution_count": 214,
   "id": "8d1c8750-f332-4c92-93ab-4538c27d8800",
   "metadata": {},
   "outputs": [
    {
     "data": {
      "text/plain": [
       "Series([], dtype: int64)"
      ]
     },
     "execution_count": 214,
     "metadata": {},
     "output_type": "execute_result"
    }
   ],
   "source": [
    "train.isnull().sum()[train.isnull().sum()>0]"
   ]
  },
  {
   "cell_type": "code",
   "execution_count": 215,
   "id": "c0c1ce10-37bf-44a5-9737-772101ab5fb8",
   "metadata": {},
   "outputs": [
    {
     "data": {
      "text/plain": [
       "title                              430\n",
       "company                            730\n",
       "description                        889\n",
       "source                               2\n",
       "location                           159\n",
       "min_salary                         377\n",
       "max_salary                         382\n",
       "salary_type                          3\n",
       "Clean_Full_Descriptions            889\n",
       "Clean_Full_Descriptions_no_stop    882\n",
       "dtype: int64"
      ]
     },
     "execution_count": 215,
     "metadata": {},
     "output_type": "execute_result"
    }
   ],
   "source": [
    "# this gives us the categorical variables and the number of unique entries in them!\n",
    "train.select_dtypes('object').nunique(dropna = False)"
   ]
  },
  {
   "cell_type": "code",
   "execution_count": 242,
   "id": "770211b5-3c08-4fb8-9177-625f66107b50",
   "metadata": {},
   "outputs": [
    {
     "data": {
      "text/plain": [
       "0    0.746667\n",
       "1    0.253333\n",
       "Name: Salary_Target, dtype: float64"
      ]
     },
     "execution_count": 243,
     "metadata": {},
     "output_type": "execute_result"
    }
   ],
   "source": [
    "train['Salary_Target'].value_counts()/len(train)\n"
   ]
  },
  {
   "cell_type": "code",
   "execution_count": 250,
   "id": "7c4304a5-c093-400c-aae5-7c3887d87815",
   "metadata": {},
   "outputs": [
    {
     "name": "stdout",
     "output_type": "stream",
     "text": [
      "Model Accuracy is: 0.8222222222222222\n",
      "Area under the ROC curve: 0.5789473684210527\n",
      "Confusion Matrix:\n",
      " [[142   0]\n",
      " [ 32   6]]\n"
     ]
    }
   ],
   "source": [
    "# Subset the columns required\n",
    "columns_required = ['title', 'company', 'source', 'location', 'Salary_Target']\n",
    "train_b1 = train.loc[:, columns_required]\n",
    "\n",
    "# Convert the categorical variables to dummy variables\n",
    "train_b1 = pd.get_dummies(train_b1)\n",
    "\n",
    "# Lets separate the predictors from the target variable\n",
    "columns_selected = train_b1.columns.values.tolist()\n",
    "target_variable = ['Salary_Target']\n",
    "\n",
    "# predictors are all variables except for the target variable\n",
    "predictors = list(set(columns_selected) - set(target_variable))\n",
    "\n",
    "# setup the model\n",
    "from sklearn.naive_bayes import BernoulliNB\n",
    "\n",
    "X = np.array(train_b1.loc[:,predictors])\n",
    "y = np.array(train_b1.loc[:,target_variable[0]])\n",
    "\n",
    "# create test train splits \n",
    "from sklearn.model_selection import train_test_split\n",
    "X_train, X_test, y_train, y_test = train_test_split(X, y, test_size = 0.2, random_state = 2)\n",
    "\n",
    "model = BernoulliNB()\n",
    "\n",
    "# Fit the model and predict the output on the test data\n",
    "model.fit(X_train, y_train)\n",
    "\n",
    "# Predicted output\n",
    "predicted = model.predict(X_test)\n",
    "\n",
    "# Accuracy\n",
    "from sklearn import metrics\n",
    "\n",
    "print(\"Model Accuracy is:\", metrics.accuracy_score(y_test, predicted))\n",
    "print(\"Area under the ROC curve:\", metrics.roc_auc_score(y_test, predicted))\n",
    "print(\"Confusion Matrix:\\n\",metrics.confusion_matrix(y_test, predicted))"
   ]
  },
  {
   "cell_type": "code",
   "execution_count": 256,
   "id": "50bd175d-e172-4650-80e7-9f153c27d74d",
   "metadata": {},
   "outputs": [
    {
     "name": "stdout",
     "output_type": "stream",
     "text": [
      "Model Accuracy: 0.8166666666666667\n",
      "Area under the ROC curve: 0.7392512972572275\n",
      "Model Confusion Matrix:\n",
      " [[124  18]\n",
      " [ 15  23]]\n"
     ]
    }
   ],
   "source": [
    "# Lets lemmatize the job descriptions before we run the model\n",
    "def text_lemmatizer(s):\n",
    "    '''Given a description, this lemmatizes it'''\n",
    "    tokenized_corpus = nltk.word_tokenize(s)\n",
    "    \n",
    "    # lemmatize\n",
    "    s = \" \".join([lmtzr.lemmatize(token) for token in tokenized_corpus])\n",
    "    return s\n",
    "\n",
    "# lemmatize the descriptions\n",
    "train['Clean_Full_Descriptions_no_stop_lemm'] = train['Clean_Full_Descriptions_no_stop'].map(text_lemmatizer)\n",
    "\n",
    "# make the X and y matrices for model fitting\n",
    "X = np.array(train.loc[:, 'Clean_Full_Descriptions_no_stop_lemm'])\n",
    "y = np.array(train.loc[:, 'Salary_Target'])\n",
    "\n",
    "# split into test and train data\n",
    "X_train, X_test, y_train, y_test = train_test_split(X, y, test_size = 0.2, random_state = 2)\n",
    "\n",
    "# Convert the arrays into a presence/absence matrix\n",
    "from sklearn.feature_extraction.text import CountVectorizer\n",
    "\n",
    "count_vectorizer = CountVectorizer()\n",
    "X_train_counts = count_vectorizer.fit_transform(X_train)\n",
    "X_test_counts = count_vectorizer.transform(X_test)\n",
    "\n",
    "from sklearn.naive_bayes import MultinomialNB\n",
    "nb_mult_model = MultinomialNB().fit(X_train_counts, y_train)\n",
    "predicted = nb_mult_model.predict(X_test_counts)\n",
    "\n",
    "print(\"Model Accuracy:\", metrics.accuracy_score(y_test, predicted))\n",
    "print(\"Area under the ROC curve:\", metrics.roc_auc_score(y_test, predicted))\n",
    "print(\"Model Confusion Matrix:\\n\", metrics.confusion_matrix(y_test, predicted))"
   ]
  },
  {
   "cell_type": "code",
   "execution_count": 220,
   "id": "12fdffec-bd9c-4a86-95e5-6488b817450e",
   "metadata": {},
   "outputs": [
    {
     "name": "stdout",
     "output_type": "stream",
     "text": [
      "Model Accuracy: 0.8\n",
      "Area under the ROC curve: 0.6515937731653076\n",
      "Model Confusion Matrix:\n",
      " [[129  13]\n",
      " [ 23  15]]\n"
     ]
    }
   ],
   "source": [
    "# Calculate the frequencies of words using the TfidfTransformer\n",
    "X_train_bern = np.where(X_train_counts.todense() > 0 , 1, 0)\n",
    "X_test_bern = np.where(X_test_counts.todense() > 0, 1, 0)\n",
    "\n",
    "# Fit the model\n",
    "from sklearn.naive_bayes import BernoulliNB\n",
    "nb_bern_model = BernoulliNB().fit(X_train_bern, y_train)\n",
    "predicted = nb_bern_model.predict(X_test_bern)\n",
    "\n",
    "# print the accuracies\n",
    "print(\"Model Accuracy:\", metrics.accuracy_score(y_test, predicted))\n",
    "print(\"Area under the ROC curve:\", metrics.roc_auc_score(y_test, predicted))\n",
    "print(\"Model Confusion Matrix:\\n\", metrics.confusion_matrix(y_test, predicted))"
   ]
  },
  {
   "cell_type": "code",
   "execution_count": 260,
   "id": "dc668928-959a-47ab-a022-b6c41b82619c",
   "metadata": {},
   "outputs": [],
   "source": [
    "# extract the column names for the columns in our training dataset.\n",
    "column_names = [x for (x,y) in sorted(count_vectorizer.vocabulary_.items(), key = lambda x:x[1])]\n",
    "\n",
    "# probability of high salary\n",
    "p_1 = np.mean(y_train)\n",
    "\n",
    "# probability of low salary\n",
    "p_0 = 1 - p_1\n",
    "\n",
    "# create an array of feature vectors\n",
    "feature_vectors = np.array(X_train_bern)\n",
    "\n",
    "# probability of word appearance\n",
    "word_probabilities = np.mean(feature_vectors, axis = 0)\n",
    "\n",
    "# probability of seeing these words for class= 1 and class = 0 respectively\n",
    "p_x_1 = np.mean(feature_vectors[y_train==1, :], axis = 0)\n",
    "p_x_0 = np.mean(feature_vectors[y_train==0, :], axis = 0)\n",
    "\n",
    "# words that are good indicators of high salary (class = 1)\n",
    "high_indicators = p_x_1 * (np.log2(p_x_1) - np.log2(word_probabilities) - np.log2(p_1))\n",
    "\n",
    "high_indicators_series = pd.Series(high_indicators, index = column_names)\n",
    "\n",
    "# words that are good indicators of low salary (class = 0)\n",
    "low_indicators = p_x_0 * (np.log2(p_x_0) - np.log2(word_probabilities) - np.log2(p_0))\n",
    "\n",
    "low_indicators_series = pd.Series(low_indicators, index = column_names)\n"
   ]
  },
  {
   "cell_type": "code",
   "execution_count": 262,
   "id": "e7d4dd59-48f0-439c-9ba6-edc1299de9c2",
   "metadata": {},
   "outputs": [
    {
     "data": {
      "text/plain": [
       "Index(['work', 'experience', 'data', 'skill', 'year', 'team', 'ability',\n",
       "       'requirement', 'solution', 'development', 'business', 'technology',\n",
       "       'sql', 'degree', 'job', 'required', 'knowledge', 'strong', 'develop',\n",
       "       'support', 'bachelor', 'tool', 'system', 'database', 'analysis',\n",
       "       'design', 'information', 'related', 'management', 'including',\n",
       "       'process', 'analytics', 'position', 'working', 'opportunity', 'benefit',\n",
       "       'using', 'provide', 'engineer', 'environment', 'science', 'project',\n",
       "       'python', 'service', 'type', 'source', 'preferred', 'new',\n",
       "       'application', 'education', 'responsibility', 'analyst', 'location',\n",
       "       'software', 'employee', 'role', 'field', 'time', 'professional',\n",
       "       'engineering', 'need', 'remote', 'hour', 'quality', 'schedule',\n",
       "       'qualification', 'understand', 'technical', 'understanding', 'must',\n",
       "       'health', 'analytical', 'performance', 'maintain', 'one', 'industry',\n",
       "       'employer', 'report', 'andor', 'excellent', 'ensure', 'practice',\n",
       "       'customer', 'insurance', 'life', 'cloud', 'within', 'developing',\n",
       "       'stakeholder', 'program', 'various', 'etc', 'equal', 'organization',\n",
       "       'paid', 'duty', 'programming', 'part', 'disability', 'level'],\n",
       "      dtype='object')"
      ]
     },
     "execution_count": 262,
     "metadata": {},
     "output_type": "execute_result"
    }
   ],
   "source": [
    "low_indicators_series[[i for i in low_indicators_series.index if i not in en_stopwords]].sort_values(ascending = False)[:100].index"
   ]
  },
  {
   "cell_type": "code",
   "execution_count": 263,
   "id": "6016b95e-7b6c-45a1-8838-f8ecd1d15108",
   "metadata": {},
   "outputs": [
    {
     "data": {
      "text/plain": [
       "Index(['experience', 'work', 'team', 'opportunity', 'year', 'role', 'data',\n",
       "       'engineering', 'product', 'disability', 'range', 'science', 'business',\n",
       "       'benefit', 'salary', 'including', 'may', 'location', 'build', 'working',\n",
       "       'new', 'skill', 'building', 'equal', 'platform', 'people', 'learning',\n",
       "       'status', 'help', 'environment', 'need', 'process', 'base', 'design',\n",
       "       'time', 'degree', 'protected', 'also', 'python', 'across', 'make',\n",
       "       'employee', 'age', 'race', 'pay', 'law', 'like', 'best', 'job',\n",
       "       'development', 'gender', 'national', 'technical', 'factor', 'veteran',\n",
       "       'candidate', 'medical', 'employer', 'applicable', 'color', 'system',\n",
       "       'scientist', 'religion', 'position', 'origin', 'well', 'problem',\n",
       "       'language', 'engineer', 'solution', 'world', 'support', 'sexual',\n",
       "       'applicant', 'orientation', 'application', 'identity', 'impact',\n",
       "       'field', 'based', 'employment', 'value', 'please', 'user', 'use',\n",
       "       'technology', 'every', 'model', 'plan', 'pregnancy', 'join', 'machine',\n",
       "       'vision', 'related', 'way', 'service', 'life', 'tool', 'looking',\n",
       "       'software'],\n",
       "      dtype='object')"
      ]
     },
     "execution_count": 263,
     "metadata": {},
     "output_type": "execute_result"
    }
   ],
   "source": [
    "high_indicators_series[[i for i in high_indicators_series.index if i not in en_stopwords]].sort_values(ascending = False)[:100].index"
   ]
  },
  {
   "cell_type": "code",
   "execution_count": null,
   "id": "47e3658e-92a4-4f6b-8c5e-26aa1c3f74f3",
   "metadata": {},
   "outputs": [],
   "source": []
  }
 ],
 "metadata": {
  "kernelspec": {
   "display_name": "Python 3 (ipykernel)",
   "language": "python",
   "name": "python3"
  },
  "language_info": {
   "codemirror_mode": {
    "name": "ipython",
    "version": 3
   },
   "file_extension": ".py",
   "mimetype": "text/x-python",
   "name": "python",
   "nbconvert_exporter": "python",
   "pygments_lexer": "ipython3",
   "version": "3.9.12"
  }
 },
 "nbformat": 4,
 "nbformat_minor": 5
}
